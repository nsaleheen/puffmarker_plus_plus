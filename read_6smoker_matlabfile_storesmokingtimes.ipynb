{
 "cells": [
  {
   "cell_type": "code",
   "execution_count": 2,
   "metadata": {
    "collapsed": true
   },
   "outputs": [],
   "source": [
    "import scipy.io as sio"
   ]
  },
  {
   "cell_type": "code",
   "execution_count": 42,
   "metadata": {},
   "outputs": [],
   "source": [
    "data_dir = '/media/nsaleheen/BCE46043E460024E/research/data/Smoking_data/data/Memphis_Smoking_Lab/basicfeature/'\n",
    "filename = 'p01_s02_basicfeature.mat'\n",
    "\n",
    "def append_file(filename, txt):\n",
    "    fh = open(filename, 'a')\n",
    "    fh.write(txt + '\\n')\n",
    "    fh.close()\n"
   ]
  },
  {
   "cell_type": "code",
   "execution_count": 53,
   "metadata": {},
   "outputs": [
    {
     "name": "stdout",
     "output_type": "stream",
     "text": [
      "2\n"
     ]
    }
   ],
   "source": [
    "def process_basicfeature_mat(data_dir, filename, pid, sid):\n",
    "    B = sio.loadmat(data_dir + filename)\n",
    "    B=B['B']\n",
    "    B = B[0,0]\n",
    "    smoking_epis =  B['smoking_episode'][0]\n",
    "    print(len(smoking_epis))\n",
    "    for i, se in enumerate(smoking_epis):\n",
    "        starttimestamp = int(se[0]['starttimestamp'][0][0][0])\n",
    "        endtimestamp = int(se[0]['endtimestamp'][0][0][0])\n",
    "        append_file(data_dir + 'ground_truth/' + pid+'_'+sid+'_smoking_epi.csv', str(starttimestamp) + ',' + str(endtimestamp))\n",
    "#         print(starttimestamp)\n",
    "#         print(endtimestamp)\n",
    "        puffs = se[0]['puff'][0][0][0][0][0]\n",
    "\n",
    "#         print(puffs)\n",
    "        for p in puffs:\n",
    "                append_file(data_dir + 'ground_truth/' + pid+'_'+sid+'_smoking_puff.csv', str(int(p)) + ',' + str(i+1))\n",
    "\n",
    "pid = 'p06'\n",
    "sid = 's01'\n",
    "filename = pid + '_' + sid + '_basicfeature.mat'\n",
    "process_basicfeature_mat(data_dir, filename, pid, sid)\n",
    "\n",
    "# from os import listdir\n",
    "# from os.path import isfile, join\n",
    "\n",
    "# onlyfiles = [f for f in listdir(data_dir) if isfile(join(data_dir, f))]\n",
    "# for fn in onlyfiles:\n",
    "#     print(fn)\n",
    "#     pid = fn[:3]\n",
    "#     sid = fn[4:7]\n",
    "#     process_basicfeature_mat(data_dir, fn, pid, sid)\n",
    "\n",
    "# print(onlyfiles)"
   ]
  },
  {
   "cell_type": "code",
   "execution_count": 45,
   "metadata": {},
   "outputs": [
    {
     "name": "stdout",
     "output_type": "stream",
     "text": [
      "p01\n",
      "s02\n"
     ]
    }
   ],
   "source": [
    "fn = 'p01_s02_basicfeature.mat'\n",
    "pid = fn[:3]\n",
    "sid = fn[4:7]\n",
    "print(pid)\n",
    "print(sid)"
   ]
  },
  {
   "cell_type": "code",
   "execution_count": null,
   "metadata": {
    "collapsed": true
   },
   "outputs": [],
   "source": []
  }
 ],
 "metadata": {
  "kernelspec": {
   "display_name": "Python 3",
   "language": "python",
   "name": "python3"
  },
  "language_info": {
   "codemirror_mode": {
    "name": "ipython",
    "version": 3
   },
   "file_extension": ".py",
   "mimetype": "text/x-python",
   "name": "python",
   "nbconvert_exporter": "python",
   "pygments_lexer": "ipython3",
   "version": "3.6.3"
  }
 },
 "nbformat": 4,
 "nbformat_minor": 2
}
